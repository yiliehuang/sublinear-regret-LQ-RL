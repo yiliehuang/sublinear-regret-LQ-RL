{
 "cells": [
  {
   "cell_type": "code",
   "execution_count": null,
   "metadata": {},
   "outputs": [],
   "source": [
    "import numpy as np\n",
    "import pandas as pd\n",
    "import matplotlib.pyplot as plt\n",
    "from scipy.stats import truncnorm\n",
    "import math\n",
    "from tqdm.auto import tqdm\n",
    "import sys\n",
    "import os\n",
    "import scipy\n",
    "from scipy.stats import linregress\n",
    "import statsmodels.api as sm\n",
    "from scipy.optimize import minimize\n",
    "import concurrent\n",
    "from concurrent.futures import ProcessPoolExecutor\n",
    "from joblib import Parallel, delayed\n",
    "import time\n",
    "import h5py\n",
    "\n",
    "from Others import *"
   ]
  },
  {
   "cell_type": "markdown",
   "metadata": {},
   "source": [
    "# Config"
   ]
  },
  {
   "cell_type": "code",
   "execution_count": null,
   "metadata": {},
   "outputs": [],
   "source": [
    "ini = 0.5\n",
    "config = {'N':400000,\n",
    "    'real_A': 1, 'real_B': 1, 'real_C': 1, 'real_D': 1,\n",
    "    'Q': 1, 'H': 1, 'x_0': 1, 'T': 1,\n",
    "    'initial_A': ini, 'initial_B': ini, \n",
    "    'initial_C': ini, 'initial_D': ini, \n",
    "    'initial_nt': 100, 'initial_m_n':1, \n",
    "    'initial_v_n':1, 'initial_seed':None\n",
    "}"
   ]
  },
  {
   "cell_type": "code",
   "execution_count": null,
   "metadata": {},
   "outputs": [],
   "source": [
    "num_exp = 120\n",
    "initial_seeds = list(range(1, num_exp + 1))"
   ]
  },
  {
   "cell_type": "markdown",
   "metadata": {},
   "source": [
    "# Run Simulations"
   ]
  },
  {
   "cell_type": "code",
   "execution_count": null,
   "metadata": {},
   "outputs": [],
   "source": [
    "def run_simulation_for_seed(config, initial_seed):\n",
    "    try:\n",
    "        local_config = config.copy()\n",
    "        local_config['initial_seed'] = initial_seed\n",
    "        simulator = Model_Based_LQ_Simulator(**local_config)\n",
    "        simulator.run_many_iterations()\n",
    "        all_regrets = simulator.get_all_regrets()\n",
    "        file_name = f'Algo_seed_{initial_seed}.h5'\n",
    "        \n",
    "        with h5py.File('../Data_Model_Based/' + file_name, 'w') as f:\n",
    "            f.create_dataset('phi_1_list', data=np.array(simulator.phi_1_list), compression=\"gzip\")\n",
    "            f.create_dataset('regrets', data=np.array(all_regrets), compression=\"gzip\")\n",
    "    except Exception as e:\n",
    "        print(f\"Failed to save file {file_name}: {e}\")\n",
    "        return initial_seed, [[], []]  # Handle the error gracefully\n",
    "    \n",
    "    return initial_seed, [simulator.phi_1_list, all_regrets]\n",
    "\n",
    "def run_simulations_with_joblib(config, initial_seeds, num_workers=5):\n",
    "    # Wrap the iterable with tqdm for progress indication\n",
    "    results = Parallel(n_jobs=num_workers, backend=\"loky\")(\n",
    "        delayed(run_simulation_for_seed)(config, seed) for seed in tqdm(initial_seeds, total=len(initial_seeds))\n",
    "    )\n",
    "    res_dict = {seed: result for seed, result in results if result is not None}\n",
    "    try:\n",
    "        with h5py.File('../Data_Model_Based/Algo_full_results.h5', 'w') as f:\n",
    "            for k, (phi_1_list, regrets) in res_dict.items():\n",
    "                grp = f.create_group(str(k))\n",
    "                grp.create_dataset('phi_1_list', data=np.array(phi_1_list), compression=\"gzip\")\n",
    "                grp.create_dataset('regrets', data=np.array(regrets), compression=\"gzip\")\n",
    "    except Exception as e:\n",
    "        print(f\"Failed to save collective results: {e}\")\n",
    "\n",
    "    return res_dict"
   ]
  },
  {
   "cell_type": "code",
   "execution_count": null,
   "metadata": {
    "scrolled": true
   },
   "outputs": [],
   "source": [
    "start_time = time.time()\n",
    "results = run_simulations_with_joblib(config, initial_seeds, num_workers=15)\n",
    "end_time = time.time()\n",
    "\n",
    "elapsed_time = end_time - start_time\n",
    "hours, remainder = divmod(elapsed_time, 3600)\n",
    "minutes, seconds = divmod(remainder, 60)\n",
    "\n",
    "print(f\"Time taken for simulations with joblib: {int(hours)} hours, {int(minutes)} minutes, {seconds:.2f} seconds\")"
   ]
  },
  {
   "cell_type": "code",
   "execution_count": null,
   "metadata": {},
   "outputs": [],
   "source": []
  }
 ],
 "metadata": {
  "kernelspec": {
   "display_name": "Python 3",
   "language": "python",
   "name": "python3"
  },
  "language_info": {
   "codemirror_mode": {
    "name": "ipython",
    "version": 3
   },
   "file_extension": ".py",
   "mimetype": "text/x-python",
   "name": "python",
   "nbconvert_exporter": "python",
   "pygments_lexer": "ipython3",
   "version": "3.6.7"
  },
  "toc": {
   "base_numbering": 1,
   "nav_menu": {},
   "number_sections": true,
   "sideBar": true,
   "skip_h1_title": false,
   "title_cell": "Table of Contents",
   "title_sidebar": "Contents",
   "toc_cell": false,
   "toc_position": {},
   "toc_section_display": true,
   "toc_window_display": false
  },
  "varInspector": {
   "cols": {
    "lenName": 16,
    "lenType": 16,
    "lenVar": 40
   },
   "kernels_config": {
    "python": {
     "delete_cmd_postfix": "",
     "delete_cmd_prefix": "del ",
     "library": "var_list.py",
     "varRefreshCmd": "print(var_dic_list())"
    },
    "r": {
     "delete_cmd_postfix": ") ",
     "delete_cmd_prefix": "rm(",
     "library": "var_list.r",
     "varRefreshCmd": "cat(var_dic_list()) "
    }
   },
   "types_to_exclude": [
    "module",
    "function",
    "builtin_function_or_method",
    "instance",
    "_Feature"
   ],
   "window_display": false
  }
 },
 "nbformat": 4,
 "nbformat_minor": 4
}
