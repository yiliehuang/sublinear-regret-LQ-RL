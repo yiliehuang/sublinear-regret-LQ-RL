{
 "cells": [
  {
   "cell_type": "code",
   "execution_count": null,
   "metadata": {},
   "outputs": [],
   "source": [
    "import numpy as np\n",
    "import pandas as pd\n",
    "import matplotlib.pyplot as plt\n",
    "from scipy.stats import truncnorm\n",
    "import math\n",
    "from tqdm.auto import tqdm\n",
    "import sys\n",
    "import os\n",
    "import scipy\n",
    "from scipy.stats import linregress\n",
    "import statsmodels.api as sm\n",
    "from joblib import Parallel, delayed\n",
    "import time\n",
    "import h5py\n",
    "from sympy import symbols, Function, Eq, solve, exp, diff, dsolve, simplify\n",
    "from scipy.optimize import minimize\n",
    "\n",
    "from Others import *"
   ]
  },
  {
   "cell_type": "markdown",
   "metadata": {},
   "source": [
    "# Config"
   ]
  },
  {
   "cell_type": "code",
   "execution_count": null,
   "metadata": {},
   "outputs": [],
   "source": [
    "ini = -2\n",
    "config = {'N':200000,\n",
    "    'real_A': 1, 'real_B': 1, 'real_C': 1, 'real_D': 1,\n",
    "    'Q': 1, 'H': 1, 'x_0': 1, 'T': 1,\n",
    "    'initial_A': ini, 'initial_B': ini, \n",
    "    'initial_C': ini, 'initial_D': ini, \n",
    "    'initial_nt': 100, 'initial_m_n':1, \n",
    "    'initial_v_n':5, 'initial_seed':None\n",
    "}"
   ]
  },
  {
   "cell_type": "code",
   "execution_count": null,
   "metadata": {},
   "outputs": [],
   "source": [
    "num_exp = 120\n",
    "initial_seeds = list(range(1, num_exp + 1))"
   ]
  },
  {
   "cell_type": "markdown",
   "metadata": {},
   "source": [
    "# Load Data"
   ]
  },
  {
   "cell_type": "code",
   "execution_count": null,
   "metadata": {},
   "outputs": [],
   "source": [
    "file_path = '../Data_Model_Based/'\n",
    "\n",
    "data = {}\n",
    "\n",
    "with h5py.File(file_path + 'Algo_full_results.h5', 'r') as f:\n",
    "    for seed, group in f.items():\n",
    "        data[int(seed)] = {k: np.array(v) for k, v in group.items()}"
   ]
  },
  {
   "cell_type": "markdown",
   "metadata": {},
   "source": [
    "# Check All Results\n",
    "## Convergence Rate"
   ]
  },
  {
   "cell_type": "code",
   "execution_count": null,
   "metadata": {},
   "outputs": [],
   "source": [
    "def plot_log_mse(data, star, title, log_iter_start, log_iter_end, lower_percentile, upper_percentile, initial_n):\n",
    "    mse_all = (np.array(data) - star) ** 2\n",
    "    avg_mse = np.mean(mse_all, axis=0)\n",
    "    lower_bound = np.percentile(mse_all, lower_percentile, axis=0)\n",
    "    upper_bound = np.percentile(mse_all, upper_percentile, axis=0)\n",
    "    log_mse = np.log(avg_mse)\n",
    "    log_iterations = np.log(np.arange(initial_n + 1, initial_n + len(avg_mse) + 1))\n",
    "    \n",
    "    fig, ax = plt.subplots(figsize=(8, 6))\n",
    "    ax.plot(log_iterations, log_mse, label='Log MSE')\n",
    "    ax.fill_between(log_iterations, np.log(lower_bound), np.log(upper_bound), color='gray', alpha=0.3, label=f'{lower_percentile}th-{upper_percentile}th Percentile')\n",
    "\n",
    "    # Perform regression in the specified range\n",
    "    valid_indices = (log_iterations >= log_iter_start) & (log_iterations <= log_iter_end)\n",
    "    slope, intercept, _, _, _ = linregress(log_iterations[valid_indices], log_mse[valid_indices])\n",
    "\n",
    "    # Compute regression line for **all** log_iterations\n",
    "    full_regression_line = slope * log_iterations + intercept\n",
    "\n",
    "    # Plot regression line across all log iterations\n",
    "    ax.plot(log_iterations, full_regression_line, 'r', label=f'Linear Regression\\ny = {slope:.2f}x {\"+\" if intercept >= 0 else \"-\"} {abs(intercept):.2f}')\n",
    "    \n",
    "    # Formatting updates\n",
    "    ax.set_xlabel('Log Episodes', fontsize=18)\n",
    "    ax.set_ylabel(f'Log MSE of {title}', fontsize=18)\n",
    "    ax.tick_params(axis='both', labelsize=18)  # Increase tick label size\n",
    "    ax.legend(fontsize=16)  # Increase legend font size\n",
    "    ax.set_title(\"\")  # Set title to empty\n",
    "    ax.grid(True)\n",
    "    \n",
    "    return fig"
   ]
  },
  {
   "cell_type": "code",
   "execution_count": null,
   "metadata": {},
   "outputs": [],
   "source": [
    "phi_1_values = np.array([result['phi_1_list'] for result in data.values()])\n",
    "fig1 = plot_log_mse(phi_1_values, -2, '$\\phi_1$', np.log(5000), np.log(200000), 25, 75, 0)"
   ]
  },
  {
   "cell_type": "code",
   "execution_count": null,
   "metadata": {},
   "outputs": [],
   "source": [
    "fig1.savefig('phi1_log_mse_model-based.png')"
   ]
  },
  {
   "cell_type": "markdown",
   "metadata": {},
   "source": [
    "## Regret"
   ]
  },
  {
   "cell_type": "code",
   "execution_count": null,
   "metadata": {},
   "outputs": [],
   "source": [
    "def plot_log_regret(regrets, title, log_iter_start, log_iter_end, lower_percentile, upper_percentile, initial_n):\n",
    "    all_regrets = [np.cumsum(regret) for regret in regrets]\n",
    "\n",
    "    avg_regret = np.median(all_regrets, axis=0)\n",
    "    lower_bound = np.percentile(all_regrets, lower_percentile, axis=0)\n",
    "    upper_bound = np.percentile(all_regrets, upper_percentile, axis=0)\n",
    "\n",
    "    log_avg_regret = np.log(avg_regret)\n",
    "    log_iterations = np.log(np.arange(initial_n + 1, initial_n + len(log_avg_regret) + 1))\n",
    "\n",
    "    fig, ax = plt.subplots(figsize=(8, 6))  # Consistent figure size\n",
    "    ax.plot(log_iterations, log_avg_regret, label='Log Expected Regret')\n",
    "    ax.fill_between(log_iterations, np.log(lower_bound), np.log(upper_bound), color='gray', alpha=0.3, label=f'{lower_percentile}th-{upper_percentile}th Percentile')\n",
    "\n",
    "    # Perform regression in the specified range\n",
    "    valid_indices = (log_iterations >= log_iter_start) & (log_iterations <= log_iter_end)\n",
    "    slope, intercept, _, _, _ = linregress(log_iterations[valid_indices], log_avg_regret[valid_indices])\n",
    "\n",
    "    # Compute regression line for **all** log_iterations\n",
    "    full_regression_line = slope * log_iterations + intercept\n",
    "\n",
    "    # Plot regression line across all log iterations\n",
    "    ax.plot(log_iterations, full_regression_line, 'r', label=f'Linear Regression\\ny = {slope:.2f}x {\"+\" if intercept >= 0 else \"-\"} {abs(intercept):.2f}')\n",
    "\n",
    "    # Formatting updates\n",
    "    ax.set_xlabel('Log Episodes', fontsize=18)\n",
    "    ax.set_ylabel('Log Expected Regret', fontsize=18)\n",
    "    ax.tick_params(axis='both', labelsize=18)\n",
    "    ax.legend(fontsize=16)\n",
    "    ax.set_title(\"\")  # Set title to empty for consistency\n",
    "    ax.grid(True)\n",
    "\n",
    "    return fig, all_regrets"
   ]
  },
  {
   "cell_type": "code",
   "execution_count": null,
   "metadata": {},
   "outputs": [],
   "source": [
    "regrets = np.array([result['regrets'] for result in data.values()])\n",
    "fig2, all_regrets = plot_log_regret(regrets, '', np.log(5000), np.log(200000), 25, 75, 0)"
   ]
  },
  {
   "cell_type": "code",
   "execution_count": null,
   "metadata": {},
   "outputs": [],
   "source": [
    "fig2.savefig('log_regrets_model-based.png')"
   ]
  }
 ],
 "metadata": {
  "kernelspec": {
   "display_name": "Python 3",
   "language": "python",
   "name": "python3"
  },
  "language_info": {
   "codemirror_mode": {
    "name": "ipython",
    "version": 3
   },
   "file_extension": ".py",
   "mimetype": "text/x-python",
   "name": "python",
   "nbconvert_exporter": "python",
   "pygments_lexer": "ipython3",
   "version": "3.6.7"
  },
  "toc": {
   "base_numbering": 1,
   "nav_menu": {},
   "number_sections": true,
   "sideBar": true,
   "skip_h1_title": false,
   "title_cell": "Table of Contents",
   "title_sidebar": "Contents",
   "toc_cell": false,
   "toc_position": {},
   "toc_section_display": true,
   "toc_window_display": false
  },
  "varInspector": {
   "cols": {
    "lenName": 16,
    "lenType": 16,
    "lenVar": 40
   },
   "kernels_config": {
    "python": {
     "delete_cmd_postfix": "",
     "delete_cmd_prefix": "del ",
     "library": "var_list.py",
     "varRefreshCmd": "print(var_dic_list())"
    },
    "r": {
     "delete_cmd_postfix": ") ",
     "delete_cmd_prefix": "rm(",
     "library": "var_list.r",
     "varRefreshCmd": "cat(var_dic_list()) "
    }
   },
   "types_to_exclude": [
    "module",
    "function",
    "builtin_function_or_method",
    "instance",
    "_Feature"
   ],
   "window_display": false
  }
 },
 "nbformat": 4,
 "nbformat_minor": 4
}
